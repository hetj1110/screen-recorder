{
 "cells": [
  {
   "cell_type": "code",
   "execution_count": 1,
   "id": "df5deb0e",
   "metadata": {},
   "outputs": [
    {
     "name": "stdout",
     "output_type": "stream",
     "text": [
      "Requirement already satisfied: pillow in c:\\users\\dell\\anaconda3\\lib\\site-packages (8.3.2)\n",
      "Requirement already satisfied: numpy in c:\\users\\dell\\anaconda3\\lib\\site-packages (1.20.1)\n",
      "Requirement already satisfied: opencv-contrib-python in c:\\users\\dell\\anaconda3\\lib\\site-packages (4.5.3.56)\n",
      "Requirement already satisfied: numpy>=1.17.3 in c:\\users\\dell\\anaconda3\\lib\\site-packages (from opencv-contrib-python) (1.20.1)\n",
      "Requirement already satisfied: pywin32 in c:\\users\\dell\\anaconda3\\lib\\site-packages (227)\n"
     ]
    }
   ],
   "source": [
    "!pip install pillow\n",
    "!pip install numpy\n",
    "!pip install opencv-contrib-python\n",
    "!pip install pywin32"
   ]
  },
  {
   "cell_type": "code",
   "execution_count": 1,
   "id": "5d5a15c9",
   "metadata": {},
   "outputs": [],
   "source": [
    "import datetime  #For giving a name to video file\n",
    "\n",
    "from PIL import ImageGrab\n",
    "import numpy as np\n",
    "import cv2 #in this use for capture image and display\n",
    "from win32api import GetSystemMetrics  # use for captute image Dynamicaly like full screen\n",
    "\n",
    "\n",
    "# This is for Caputure Screen to Which width and height\n",
    "width = GetSystemMetrics(0)\n",
    "height = GetSystemMetrics(1)\n",
    "\n",
    "# Giving name to file\n",
    "time_stamp = datetime.datetime.now().strftime('%Y-%m-%d %H-%M-%S')\n",
    "file_name = f'{time_stamp}.mp4'\n",
    "\n",
    "fourcc = cv2.VideoWriter_fourcc('m', 'p', '4', 'v')\n",
    "captured_video = cv2.VideoWriter(file_name, fourcc, 20.0, (width, height))\n",
    "\n",
    "webcam = cv2.VideoCapture(0)\n",
    "\n",
    "# This is a loop for grab image until we stop it\n",
    "while True:\n",
    "    img = ImageGrab.grab(bbox=(0, 0, width, height))\n",
    "    img_np = np.array(img)   # Will capture image in BGR\n",
    "#    Give a correct color\n",
    "    img_final = cv2.cvtColor(img_np, cv2.COLOR_BGR2RGB)\n",
    "    _, frame = webcam.read()\n",
    "    fr_height, fr_width, _ = frame.shape\n",
    "    img_final[0:fr_height, 0: fr_width, :] = frame[0: fr_height, 0: fr_width, :]\n",
    "    cv2.imshow('screen_recorder', img_final)\n",
    "\n",
    "    captured_video.write(img_final)\n",
    "    if cv2.waitKey(10) == ord('q'):\n",
    "        break\n",
    "        "
   ]
  },
  {
   "cell_type": "code",
   "execution_count": null,
   "id": "a34c6181",
   "metadata": {},
   "outputs": [],
   "source": []
  },
  {
   "cell_type": "code",
   "execution_count": null,
   "id": "be7ec098",
   "metadata": {},
   "outputs": [],
   "source": []
  }
 ],
 "metadata": {
  "kernelspec": {
   "display_name": "Python 3 (ipykernel)",
   "language": "python",
   "name": "python3"
  },
  "language_info": {
   "codemirror_mode": {
    "name": "ipython",
    "version": 3
   },
   "file_extension": ".py",
   "mimetype": "text/x-python",
   "name": "python",
   "nbconvert_exporter": "python",
   "pygments_lexer": "ipython3",
   "version": "3.8.8"
  }
 },
 "nbformat": 4,
 "nbformat_minor": 5
}
